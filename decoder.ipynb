{
 "cells": [
  {
   "cell_type": "code",
   "execution_count": 4,
   "id": "f2b118dc",
   "metadata": {},
   "outputs": [
    {
     "data": {
      "text/plain": [
       "((-0.07272649556398392,\n",
       "  -0.000536217587068677,\n",
       "  86.08902740478516,\n",
       "  -0.0006656660116277635,\n",
       "  0.07268868386745453,\n",
       "  -79.58790588378906,\n",
       "  0.0,\n",
       "  0.0,\n",
       "  1.0),\n",
       " 'D:\\\\projects\\\\生产实训-数字孪生\\\\vision\\\\config\\\\waican.txt')"
      ]
     },
     "execution_count": 4,
     "metadata": {},
     "output_type": "execute_result"
    }
   ],
   "source": [
    "import struct\n",
    "\n",
    "# 文件路径\n",
    "file_path = r\"D:\\projects\\生产实训-数字孪生\\vision\\config\\三峡15-标定.iwcal\"\n",
    "\n",
    "# 读取文件前36个字节（9个float，每个4字节）\n",
    "with open(file_path, \"rb\") as f:\n",
    "    data = f.read(36)\n",
    "\n",
    "# 按4字节解析为float（小端格式）\n",
    "floats = struct.unpack(\"<9f\", data)\n",
    "\n",
    "# 保存到txt文件\n",
    "txt_path = r\"D:\\projects\\生产实训-数字孪生\\vision\\config\\waican.txt\"\n",
    "with open(txt_path, \"w\") as f:\n",
    "    for i in range(3):\n",
    "        f.write(f\"{floats[3*i]} {floats[3*i+1]} {floats[3*i+2]}\\n\")\n",
    "\n",
    "floats, txt_path\n"
   ]
  }
 ],
 "metadata": {
  "kernelspec": {
   "display_name": "d2l",
   "language": "python",
   "name": "python3"
  },
  "language_info": {
   "codemirror_mode": {
    "name": "ipython",
    "version": 3
   },
   "file_extension": ".py",
   "mimetype": "text/x-python",
   "name": "python",
   "nbconvert_exporter": "python",
   "pygments_lexer": "ipython3",
   "version": "3.8.20"
  }
 },
 "nbformat": 4,
 "nbformat_minor": 5
}
